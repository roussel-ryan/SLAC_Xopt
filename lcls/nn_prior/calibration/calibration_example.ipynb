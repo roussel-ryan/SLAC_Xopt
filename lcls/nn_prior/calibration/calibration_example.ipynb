{
 "cells": [
  {
   "cell_type": "code",
   "execution_count": 1,
   "metadata": {
    "ExecuteTime": {
     "end_time": "2023-04-26T12:20:23.809750Z",
     "start_time": "2023-04-26T12:20:21.653781Z"
    }
   },
   "outputs": [],
   "source": [
    "import sys\n",
    "import warnings\n",
    "warnings.filterwarnings(\"ignore\")\n",
    "\n",
    "import torch\n",
    "import numpy as np\n",
    "import pandas as pd\n",
    "import matplotlib.pyplot as plt\n",
    "\n",
    "# fix random seeds\n",
    "rng_seed = 0\n",
    "torch.manual_seed(rng_seed)\n",
    "np.random.seed(rng_seed)\n",
    "\n",
    "from xopt import Xopt, VOCS\n",
    "from xopt.evaluator import Evaluator\n",
    "from xopt.numerical_optimizer import LBFGSOptimizer\n",
    "from xopt.generators.bayesian import ExpectedImprovementGenerator\n",
    "from xopt.generators.bayesian.models.standard import StandardModelConstructor\n",
    "from lume_model.models import TorchModule\n",
    "\n",
    "sys.path.append(\"../\")\n",
    "sys.path.append(\"calibration_modules/\")\n",
    "import utils\n",
    "from calibration_modules.decoupled_linear import DecoupledLinear"
   ]
  },
  {
   "cell_type": "code",
   "execution_count": 2,
   "metadata": {},
   "outputs": [
    {
     "name": "stdout",
     "output_type": "stream",
     "text": [
      "cpu\n"
     ]
    }
   ],
   "source": [
    "device = \"cuda\" if torch.cuda.is_available() else \"cpu\"\n",
    "print(device)"
   ]
  },
  {
   "cell_type": "markdown",
   "metadata": {},
   "source": [
    "## Definition of Objective"
   ]
  },
  {
   "cell_type": "code",
   "execution_count": 3,
   "metadata": {},
   "outputs": [],
   "source": [
    "# create Xopt vocs\n",
    "vocs = VOCS.from_yaml(\n",
    "    \"\"\"\n",
    "    variables:\n",
    "      distgen:r_dist:sigma_xy:value: [0.21021247820852546, 0.4999996083265339]\n",
    "      distgen:t_dist:length:value: [3.000000758511308, 11.998569812014836]\n",
    "      SOL1:solenoid_field_scale: [0.19409053333889578, 0.2563030896232562]\n",
    "      CQ01:b1_gradient: [-0.009999618141995313, 0.0099925212795954]\n",
    "      SQ01:b1_gradient: [-0.009999490058927914, 0.009999443099573097]\n",
    "      L0A_phase:dtheta0_deg: [-24.998714513984325, 9.991752397382681]\n",
    "      L0B_phase:dtheta0_deg: [-24.99972566363747, 9.998904767155892]\n",
    "      QA01:b1_gradient: [1.000039854940649, 3.998197816908352]\n",
    "      QA02:b1_gradient: [-3.990444304119449, -1.0105116218007806]\n",
    "      QE01:b1_gradient: [1.0007061999094193, 6.9997773994714345]\n",
    "      QE02:b1_gradient: [-6.999887318319171, 0.9983521010385275]\n",
    "      QE03:b1_gradient: [-6.998418428856965, 0.9993010487139868]\n",
    "      QE04:b1_gradient: [1.000026533968218, 6.998086093251312]\n",
    "    constraints: {}\n",
    "    objectives: {sigma_xy: MINIMIZE}\n",
    "    constants: {'distgen:total_charge:value': 250.0, 'L0A_scale:voltage': 58000000.0,\n",
    "      'L0B_scale:voltage': 70000000.0}\n",
    "    observables: []\n",
    "    \"\"\"\n",
    ")"
   ]
  },
  {
   "cell_type": "code",
   "execution_count": 4,
   "metadata": {},
   "outputs": [],
   "source": [
    "# create objective model\n",
    "objective_model = utils.load_model(\n",
    "    input_variables=vocs.variable_names,\n",
    "    model_path=\"../lcls_cu_injector_nn_model/\",\n",
    "    use_sim_model=True,\n",
    ")\n",
    "lume_model = objective_model.model.model\n",
    "lume_module = objective_model.model"
   ]
  },
  {
   "cell_type": "code",
   "execution_count": 5,
   "metadata": {},
   "outputs": [],
   "source": [
    "# define miscalibrated objective model\n",
    "mismatch_scale = 0.3\n",
    "x_size = len(lume_module.input_order)\n",
    "y_size = len(vocs.objective_names)\n",
    "\n",
    "miscalibrated_objective_model = DecoupledLinear(\n",
    "    model=objective_model,\n",
    "    x_size=x_size,\n",
    "    y_size=y_size,\n",
    "    x_offset_initial=mismatch_scale * torch.rand(x_size),\n",
    "    x_scale_initial=torch.ones(x_size) + mismatch_scale * torch.rand(x_size),\n",
    "    y_offset_initial=mismatch_scale * torch.rand(y_size),\n",
    "    y_scale_initial=torch.ones(y_size) + mismatch_scale * torch.rand(y_size),\n",
    ")\n",
    "miscalibrated_objective_model.requires_grad_(False);"
   ]
  },
  {
   "cell_type": "markdown",
   "metadata": {},
   "source": [
    "## Bayesian Approach"
   ]
  },
  {
   "cell_type": "markdown",
   "metadata": {},
   "source": [
    "### Define Custom Mean and Xopt Config"
   ]
  },
  {
   "cell_type": "code",
   "execution_count": 6,
   "metadata": {},
   "outputs": [],
   "source": [
    "# define custom mean\n",
    "custom_mean = DecoupledLinear(\n",
    "    model=miscalibrated_objective_model,\n",
    "    x_size=x_size,\n",
    "    y_size=y_size,\n",
    ")"
   ]
  },
  {
   "cell_type": "code",
   "execution_count": 7,
   "metadata": {},
   "outputs": [],
   "source": [
    "def evaluate(input_dict, generator, lume_model, objective_model, noise_level = 0.0):\n",
    "    model_result = lume_model.evaluate(input_dict)\n",
    "    sigma_xy = objective_model.function(model_result[\"sigma_x\"], model_result[\"sigma_y\"])\n",
    "    noise = noise_level * torch.rand(sigma_xy.shape)\n",
    "    total_size = sigma_xy + noise\n",
    "    output_dict = {generator.vocs.objective_names[0]: total_size.detach().item()}\n",
    "    return output_dict"
   ]
  },
  {
   "cell_type": "code",
   "execution_count": 8,
   "metadata": {},
   "outputs": [],
   "source": [
    "# Xopt definition\n",
    "gp_constructor = StandardModelConstructor(\n",
    "    use_low_noise_prior=True,\n",
    "    mean_modules={vocs.objective_names[0]: custom_mean},\n",
    "    trainable_mean_keys=[vocs.objective_names[0]],\n",
    ")\n",
    "numerical_optimizer = LBFGSOptimizer(n_restarts=5, max_iter=20)\n",
    "generator = ExpectedImprovementGenerator(\n",
    "    vocs=vocs,\n",
    "    gp_constructor=gp_constructor,\n",
    "    numerical_optimizer=numerical_optimizer,\n",
    ")\n",
    "evaluator = Evaluator(function=evaluate)\n",
    "X = Xopt(generator=generator, evaluator=evaluator, vocs=vocs)\n",
    "evaluate_kwargs = {\n",
    "    \"generator\": X.generator,\n",
    "    \"lume_model\": lume_model,\n",
    "    \"objective_model\": objective_model,\n",
    "    \"noise_level\": 0.0,\n",
    "}\n",
    "X.evaluator = Evaluator(function=evaluate, function_kwargs=evaluate_kwargs)"
   ]
  },
  {
   "cell_type": "code",
   "execution_count": 9,
   "metadata": {},
   "outputs": [
    {
     "data": {
      "text/html": [
       "<div>\n",
       "<style scoped>\n",
       "    .dataframe tbody tr th:only-of-type {\n",
       "        vertical-align: middle;\n",
       "    }\n",
       "\n",
       "    .dataframe tbody tr th {\n",
       "        vertical-align: top;\n",
       "    }\n",
       "\n",
       "    .dataframe thead th {\n",
       "        text-align: right;\n",
       "    }\n",
       "</style>\n",
       "<table border=\"1\" class=\"dataframe\">\n",
       "  <thead>\n",
       "    <tr style=\"text-align: right;\">\n",
       "      <th></th>\n",
       "      <th>distgen:r_dist:sigma_xy:value</th>\n",
       "      <th>distgen:t_dist:length:value</th>\n",
       "      <th>SOL1:solenoid_field_scale</th>\n",
       "      <th>CQ01:b1_gradient</th>\n",
       "      <th>SQ01:b1_gradient</th>\n",
       "      <th>L0A_phase:dtheta0_deg</th>\n",
       "      <th>L0B_phase:dtheta0_deg</th>\n",
       "      <th>QA01:b1_gradient</th>\n",
       "      <th>QA02:b1_gradient</th>\n",
       "      <th>QE01:b1_gradient</th>\n",
       "      <th>QE02:b1_gradient</th>\n",
       "      <th>QE03:b1_gradient</th>\n",
       "      <th>QE04:b1_gradient</th>\n",
       "      <th>distgen:total_charge:value</th>\n",
       "      <th>L0A_scale:voltage</th>\n",
       "      <th>L0B_scale:voltage</th>\n",
       "      <th>sigma_xy</th>\n",
       "      <th>xopt_runtime</th>\n",
       "      <th>xopt_error</th>\n",
       "    </tr>\n",
       "  </thead>\n",
       "  <tbody>\n",
       "    <tr>\n",
       "      <th>0</th>\n",
       "      <td>0.340961</td>\n",
       "      <td>7.095401</td>\n",
       "      <td>0.229080</td>\n",
       "      <td>0.002327</td>\n",
       "      <td>-0.001361</td>\n",
       "      <td>6.943058</td>\n",
       "      <td>-17.235516</td>\n",
       "      <td>1.602194</td>\n",
       "      <td>-1.362961</td>\n",
       "      <td>1.332641</td>\n",
       "      <td>-1.117627</td>\n",
       "      <td>-3.546874</td>\n",
       "      <td>3.326699</td>\n",
       "      <td>250.0</td>\n",
       "      <td>58000000.0</td>\n",
       "      <td>70000000.0</td>\n",
       "      <td>1.762248</td>\n",
       "      <td>0.001127</td>\n",
       "      <td>False</td>\n",
       "    </tr>\n",
       "    <tr>\n",
       "      <th>1</th>\n",
       "      <td>0.292747</td>\n",
       "      <td>8.186283</td>\n",
       "      <td>0.200824</td>\n",
       "      <td>-0.005836</td>\n",
       "      <td>-0.008512</td>\n",
       "      <td>9.284301</td>\n",
       "      <td>-20.450329</td>\n",
       "      <td>2.614610</td>\n",
       "      <td>-2.917433</td>\n",
       "      <td>3.869172</td>\n",
       "      <td>-5.194154</td>\n",
       "      <td>0.849025</td>\n",
       "      <td>3.297679</td>\n",
       "      <td>250.0</td>\n",
       "      <td>58000000.0</td>\n",
       "      <td>70000000.0</td>\n",
       "      <td>1.962777</td>\n",
       "      <td>0.000415</td>\n",
       "      <td>False</td>\n",
       "    </tr>\n",
       "    <tr>\n",
       "      <th>2</th>\n",
       "      <td>0.325327</td>\n",
       "      <td>6.186447</td>\n",
       "      <td>0.196351</td>\n",
       "      <td>-0.000581</td>\n",
       "      <td>0.008579</td>\n",
       "      <td>-19.142005</td>\n",
       "      <td>-24.251397</td>\n",
       "      <td>1.658048</td>\n",
       "      <td>-1.437695</td>\n",
       "      <td>4.512191</td>\n",
       "      <td>-2.650047</td>\n",
       "      <td>-3.940374</td>\n",
       "      <td>1.337429</td>\n",
       "      <td>250.0</td>\n",
       "      <td>58000000.0</td>\n",
       "      <td>70000000.0</td>\n",
       "      <td>3.726567</td>\n",
       "      <td>0.000336</td>\n",
       "      <td>False</td>\n",
       "    </tr>\n",
       "  </tbody>\n",
       "</table>\n",
       "</div>"
      ],
      "text/plain": [
       "   distgen:r_dist:sigma_xy:value  distgen:t_dist:length:value  \\\n",
       "0                       0.340961                     7.095401   \n",
       "1                       0.292747                     8.186283   \n",
       "2                       0.325327                     6.186447   \n",
       "\n",
       "   SOL1:solenoid_field_scale  CQ01:b1_gradient  SQ01:b1_gradient  \\\n",
       "0                   0.229080          0.002327         -0.001361   \n",
       "1                   0.200824         -0.005836         -0.008512   \n",
       "2                   0.196351         -0.000581          0.008579   \n",
       "\n",
       "   L0A_phase:dtheta0_deg  L0B_phase:dtheta0_deg  QA01:b1_gradient  \\\n",
       "0               6.943058             -17.235516          1.602194   \n",
       "1               9.284301             -20.450329          2.614610   \n",
       "2             -19.142005             -24.251397          1.658048   \n",
       "\n",
       "   QA02:b1_gradient  QE01:b1_gradient  QE02:b1_gradient  QE03:b1_gradient  \\\n",
       "0         -1.362961          1.332641         -1.117627         -3.546874   \n",
       "1         -2.917433          3.869172         -5.194154          0.849025   \n",
       "2         -1.437695          4.512191         -2.650047         -3.940374   \n",
       "\n",
       "   QE04:b1_gradient  distgen:total_charge:value  L0A_scale:voltage  \\\n",
       "0          3.326699                       250.0         58000000.0   \n",
       "1          3.297679                       250.0         58000000.0   \n",
       "2          1.337429                       250.0         58000000.0   \n",
       "\n",
       "   L0B_scale:voltage  sigma_xy  xopt_runtime  xopt_error  \n",
       "0         70000000.0  1.762248      0.001127       False  \n",
       "1         70000000.0  1.962777      0.000415       False  \n",
       "2         70000000.0  3.726567      0.000336       False  "
      ]
     },
     "execution_count": 9,
     "metadata": {},
     "output_type": "execute_result"
    }
   ],
   "source": [
    "# create initial samples\n",
    "n_init = 3\n",
    "X.random_evaluate(n_samples=n_init)"
   ]
  },
  {
   "cell_type": "markdown",
   "metadata": {},
   "source": [
    "### Bayesian Optimization"
   ]
  },
  {
   "cell_type": "code",
   "execution_count": 10,
   "metadata": {
    "ExecuteTime": {
     "end_time": "2023-04-26T12:20:24.520473Z",
     "start_time": "2023-04-26T12:20:23.858800Z"
    }
   },
   "outputs": [
    {
     "name": "stdout",
     "output_type": "stream",
     "text": [
      "CPU times: user 23min 57s, sys: 3min 38s, total: 27min 36s\n",
      "Wall time: 16min 21s\n"
     ]
    }
   ],
   "source": [
    "%%time\n",
    "n_step = 100\n",
    "for _ in range(n_step):\n",
    "    X.step()"
   ]
  },
  {
   "cell_type": "code",
   "execution_count": 11,
   "metadata": {},
   "outputs": [
    {
     "data": {
      "image/png": "[encoded data removed]",
      "text/plain": [
       "<Figure size 640x480 with 1 Axes>"
      ]
     },
     "metadata": {},
     "output_type": "display_data"
    }
   ],
   "source": [
    "# plot optimization performance\n",
    "fig, ax = plt.subplots()\n",
    "ax.plot(torch.arange(n_step + 1), utils.get_running_optimum(X.data, X.vocs.objective_names[0], maximize=False)[n_init - 1:])\n",
    "ax.set_xlabel(\"Step\")\n",
    "ax.set_ylabel(f\"{vocs.objective_names[0]} (mm)\")\n",
    "ax.grid(color=\"gray\", linestyle=\":\")\n",
    "fig.tight_layout()"
   ]
  },
  {
   "cell_type": "markdown",
   "metadata": {},
   "source": [
    "### Calibration Results"
   ]
  },
  {
   "cell_type": "code",
   "execution_count": 12,
   "metadata": {},
   "outputs": [
    {
     "data": {
      "text/html": [
       "<div>\n",
       "<style scoped>\n",
       "    .dataframe tbody tr th:only-of-type {\n",
       "        vertical-align: middle;\n",
       "    }\n",
       "\n",
       "    .dataframe tbody tr th {\n",
       "        vertical-align: top;\n",
       "    }\n",
       "\n",
       "    .dataframe thead th {\n",
       "        text-align: right;\n",
       "    }\n",
       "</style>\n",
       "<table border=\"1\" class=\"dataframe\">\n",
       "  <thead>\n",
       "    <tr style=\"text-align: right;\">\n",
       "      <th></th>\n",
       "      <th>x_offset</th>\n",
       "      <th>x_offset_learned</th>\n",
       "      <th>x_scale</th>\n",
       "      <th>x_scale_learned</th>\n",
       "    </tr>\n",
       "  </thead>\n",
       "  <tbody>\n",
       "    <tr>\n",
       "      <th>0</th>\n",
       "      <td>0.148877</td>\n",
       "      <td>0.147580</td>\n",
       "      <td>1.050658</td>\n",
       "      <td>1.545765</td>\n",
       "    </tr>\n",
       "    <tr>\n",
       "      <th>1</th>\n",
       "      <td>0.230467</td>\n",
       "      <td>0.056188</td>\n",
       "      <td>1.088166</td>\n",
       "      <td>2.117664</td>\n",
       "    </tr>\n",
       "    <tr>\n",
       "      <th>2</th>\n",
       "      <td>0.026543</td>\n",
       "      <td>0.036432</td>\n",
       "      <td>1.155557</td>\n",
       "      <td>1.687181</td>\n",
       "    </tr>\n",
       "    <tr>\n",
       "      <th>3</th>\n",
       "      <td>0.039609</td>\n",
       "      <td>0.318036</td>\n",
       "      <td>1.209300</td>\n",
       "      <td>9.992797</td>\n",
       "    </tr>\n",
       "    <tr>\n",
       "      <th>4</th>\n",
       "      <td>0.092227</td>\n",
       "      <td>0.633975</td>\n",
       "      <td>1.240003</td>\n",
       "      <td>3.901057</td>\n",
       "    </tr>\n",
       "    <tr>\n",
       "      <th>5</th>\n",
       "      <td>0.190224</td>\n",
       "      <td>0.653803</td>\n",
       "      <td>1.048309</td>\n",
       "      <td>1.306098</td>\n",
       "    </tr>\n",
       "    <tr>\n",
       "      <th>6</th>\n",
       "      <td>0.147028</td>\n",
       "      <td>-0.136846</td>\n",
       "      <td>1.084681</td>\n",
       "      <td>0.709849</td>\n",
       "    </tr>\n",
       "    <tr>\n",
       "      <th>7</th>\n",
       "      <td>0.268933</td>\n",
       "      <td>-0.773065</td>\n",
       "      <td>1.204483</td>\n",
       "      <td>0.706172</td>\n",
       "    </tr>\n",
       "    <tr>\n",
       "      <th>8</th>\n",
       "      <td>0.136688</td>\n",
       "      <td>-0.419964</td>\n",
       "      <td>1.274558</td>\n",
       "      <td>1.078321</td>\n",
       "    </tr>\n",
       "    <tr>\n",
       "      <th>9</th>\n",
       "      <td>0.189692</td>\n",
       "      <td>0.200885</td>\n",
       "      <td>1.119130</td>\n",
       "      <td>1.434628</td>\n",
       "    </tr>\n",
       "    <tr>\n",
       "      <th>10</th>\n",
       "      <td>0.104668</td>\n",
       "      <td>0.385939</td>\n",
       "      <td>1.262247</td>\n",
       "      <td>2.567048</td>\n",
       "    </tr>\n",
       "    <tr>\n",
       "      <th>11</th>\n",
       "      <td>0.120515</td>\n",
       "      <td>0.979201</td>\n",
       "      <td>1.125823</td>\n",
       "      <td>2.578461</td>\n",
       "    </tr>\n",
       "    <tr>\n",
       "      <th>12</th>\n",
       "      <td>0.006698</td>\n",
       "      <td>-0.530888</td>\n",
       "      <td>1.165872</td>\n",
       "      <td>0.442888</td>\n",
       "    </tr>\n",
       "  </tbody>\n",
       "</table>\n",
       "</div>"
      ],
      "text/plain": [
       "    x_offset  x_offset_learned   x_scale  x_scale_learned\n",
       "0   0.148877          0.147580  1.050658         1.545765\n",
       "1   0.230467          0.056188  1.088166         2.117664\n",
       "2   0.026543          0.036432  1.155557         1.687181\n",
       "3   0.039609          0.318036  1.209300         9.992797\n",
       "4   0.092227          0.633975  1.240003         3.901057\n",
       "5   0.190224          0.653803  1.048309         1.306098\n",
       "6   0.147028         -0.136846  1.084681         0.709849\n",
       "7   0.268933         -0.773065  1.204483         0.706172\n",
       "8   0.136688         -0.419964  1.274558         1.078321\n",
       "9   0.189692          0.200885  1.119130         1.434628\n",
       "10  0.104668          0.385939  1.262247         2.567048\n",
       "11  0.120515          0.979201  1.125823         2.578461\n",
       "12  0.006698         -0.530888  1.165872         0.442888"
      ]
     },
     "execution_count": 12,
     "metadata": {},
     "output_type": "execute_result"
    }
   ],
   "source": [
    "# evaluate input calibration\n",
    "learned_custom_mean = X.generator.model.models[0].mean_module._model\n",
    "df = pd.DataFrame(columns=[\"x_offset\", \"x_offset_learned\", \"x_scale\", \"x_scale_learned\"])\n",
    "for i in range(x_size):\n",
    "    x_offset = miscalibrated_objective_model.x_offset.detach()[i].item()\n",
    "    x_offset_learned = -learned_custom_mean.x_offset.detach()[i].item()\n",
    "    x_scale = miscalibrated_objective_model.x_scale.detach()[i].item()\n",
    "    x_scale_learned = 1 / learned_custom_mean.x_scale.detach()[i].item()\n",
    "    df.loc[len(df.index)] = [x_offset, x_offset_learned, x_scale, x_scale_learned]\n",
    "df"
   ]
  },
  {
   "cell_type": "code",
   "execution_count": 13,
   "metadata": {},
   "outputs": [
    {
     "data": {
      "text/html": [
       "<div>\n",
       "<style scoped>\n",
       "    .dataframe tbody tr th:only-of-type {\n",
       "        vertical-align: middle;\n",
       "    }\n",
       "\n",
       "    .dataframe tbody tr th {\n",
       "        vertical-align: top;\n",
       "    }\n",
       "\n",
       "    .dataframe thead th {\n",
       "        text-align: right;\n",
       "    }\n",
       "</style>\n",
       "<table border=\"1\" class=\"dataframe\">\n",
       "  <thead>\n",
       "    <tr style=\"text-align: right;\">\n",
       "      <th></th>\n",
       "      <th>y_offset</th>\n",
       "      <th>y_offset_learned</th>\n",
       "      <th>y_scale</th>\n",
       "      <th>y_scale_learned</th>\n",
       "    </tr>\n",
       "  </thead>\n",
       "  <tbody>\n",
       "    <tr>\n",
       "      <th>0</th>\n",
       "      <td>0.285821</td>\n",
       "      <td>0.810209</td>\n",
       "      <td>1.010849</td>\n",
       "      <td>1.456044</td>\n",
       "    </tr>\n",
       "  </tbody>\n",
       "</table>\n",
       "</div>"
      ],
      "text/plain": [
       "   y_offset  y_offset_learned   y_scale  y_scale_learned\n",
       "0  0.285821          0.810209  1.010849         1.456044"
      ]
     },
     "execution_count": 13,
     "metadata": {},
     "output_type": "execute_result"
    }
   ],
   "source": [
    "# evaluate output calibration\n",
    "learned_custom_mean = X.generator.model.models[0].mean_module._model\n",
    "df = pd.DataFrame(columns=[\"y_offset\", \"y_offset_learned\", \"y_scale\", \"y_scale_learned\"])\n",
    "for i in range(y_size):\n",
    "    y_offset = miscalibrated_objective_model.y_offset.detach()[i].item()\n",
    "    y_offset_learned = -learned_custom_mean.y_offset.detach()[i].item()\n",
    "    y_scale = miscalibrated_objective_model.y_scale.detach()[i].item()\n",
    "    y_scale_learned = 1 / learned_custom_mean.y_scale.detach()[i].item()\n",
    "    df.loc[len(df.index)] = [y_offset, y_offset_learned, y_scale, y_scale_learned]\n",
    "df"
   ]
  },
  {
   "cell_type": "markdown",
   "metadata": {},
   "source": [
    "## Backprop Approach"
   ]
  },
  {
   "cell_type": "markdown",
   "metadata": {},
   "source": [
    "### Create Trainable Model and Data Set"
   ]
  },
  {
   "cell_type": "code",
   "execution_count": 14,
   "metadata": {},
   "outputs": [
    {
     "data": {
      "text/plain": [
       "[Parameter containing:\n",
       " tensor([0., 0., 0., 0., 0., 0., 0., 0., 0., 0., 0., 0., 0.],\n",
       "        requires_grad=True),\n",
       " Parameter containing:\n",
       " tensor([0., 0., 0., 0., 0., 0., 0., 0., 0., 0., 0., 0., 0.],\n",
       "        requires_grad=True),\n",
       " Parameter containing:\n",
       " tensor([0.], requires_grad=True),\n",
       " Parameter containing:\n",
       " tensor([0.], requires_grad=True)]"
      ]
     },
     "execution_count": 14,
     "metadata": {},
     "output_type": "execute_result"
    }
   ],
   "source": [
    "# create calibrated model\n",
    "cal_model = DecoupledLinear(\n",
    "    model=miscalibrated_objective_model,\n",
    "    x_size=x_size,\n",
    "    y_size=y_size,\n",
    ")\n",
    "cal_model.to(device)\n",
    "\n",
    "# define trainable parameters\n",
    "trainable_params = cal_model.raw_calibration_parameters\n",
    "trainable_params"
   ]
  },
  {
   "cell_type": "code",
   "execution_count": 15,
   "metadata": {},
   "outputs": [],
   "source": [
    "# create data set\n",
    "x = torch.tensor(\n",
    "    X.data[vocs.variable_names].values,\n",
    "    dtype=torch.double,\n",
    "    device=device,\n",
    ")\n",
    "pred = torch.tensor(\n",
    "    X.data[vocs.output_names].values,\n",
    "    dtype=torch.double,\n",
    "    device=device,\n",
    ").squeeze()"
   ]
  },
  {
   "cell_type": "code",
   "execution_count": 16,
   "metadata": {},
   "outputs": [],
   "source": [
    "# define data set class\n",
    "class Dataset(torch.utils.data.Dataset):\n",
    "    def __init__(self, x, y):\n",
    "        self.x, self.y = x, y\n",
    "\n",
    "    def __len__(self):\n",
    "        return self.y.shape[0]\n",
    "\n",
    "    def __getitem__(self, idx):\n",
    "        x, y = self.x[idx], self.y[idx]\n",
    "        return x, y\n",
    "\n",
    "\n",
    "# define dataloader\n",
    "trainloader = torch.utils.data.DataLoader(\n",
    "    dataset=Dataset(x, pred),\n",
    "    batch_size=pred.shape[0],\n",
    "    shuffle=True,\n",
    "    num_workers=0,\n",
    "    pin_memory=not \"cuda\" in device,  # we can't use this if we're on the GPU\n",
    ")\n",
    "\n",
    "# define optimizer and loss function\n",
    "optimizer = torch.optim.Adam(\n",
    "    params=trainable_params,\n",
    "    lr=1e-3,\n",
    "    weight_decay=1e-3,  # regularization favors conservative calibration\n",
    ")\n",
    "criterion = torch.nn.L1Loss()"
   ]
  },
  {
   "cell_type": "markdown",
   "metadata": {},
   "source": [
    "### Training Loop"
   ]
  },
  {
   "cell_type": "code",
   "execution_count": 17,
   "metadata": {},
   "outputs": [
    {
     "name": "stdout",
     "output_type": "stream",
     "text": [
      "CPU times: user 3min 15s, sys: 42.8 s, total: 3min 58s\n",
      "Wall time: 2min 18s\n"
     ]
    }
   ],
   "source": [
    "%%time\n",
    "# training loop\n",
    "losses = []\n",
    "n_epochs = int(1e4)\n",
    "for epoch in range(n_epochs):\n",
    "    for i, batch_data in enumerate(trainloader, 0):\n",
    "        inputs, targets = batch_data\n",
    "        optimizer.zero_grad()\n",
    "        outputs = cal_model(inputs)\n",
    "        loss = criterion(outputs, targets)\n",
    "        loss.backward()\n",
    "        optimizer.step()\n",
    "        if i == 0:\n",
    "            losses.append(loss.item())"
   ]
  },
  {
   "cell_type": "code",
   "execution_count": 18,
   "metadata": {},
   "outputs": [
    {
     "data": {
      "image/png": "[encoded data removed]",
      "text/plain": [
       "<Figure size 600x400 with 1 Axes>"
      ]
     },
     "metadata": {},
     "output_type": "display_data"
    }
   ],
   "source": [
    "# plot training process\n",
    "fig, ax = plt.subplots(figsize=(6, 4))\n",
    "ax.set_xlabel(\"epoch\")\n",
    "ax.plot(losses, \"C0\")\n",
    "ax.set_ylabel(criterion.__class__.__name__)\n",
    "ax.grid(color=\"gray\", linestyle=\"dashed\")\n",
    "ax.set_yscale(\"log\")\n",
    "fig.tight_layout()"
   ]
  },
  {
   "cell_type": "markdown",
   "metadata": {},
   "source": [
    "### Calibration Results"
   ]
  },
  {
   "cell_type": "code",
   "execution_count": 19,
   "metadata": {},
   "outputs": [
    {
     "data": {
      "image/png": "[encoded data removed]",
      "text/plain": [
       "<Figure size 640x480 with 1 Axes>"
      ]
     },
     "metadata": {},
     "output_type": "display_data"
    }
   ],
   "source": [
    "# calibrated predictions\n",
    "with torch.no_grad():\n",
    "    cal_pred = cal_model(x)\n",
    "fig, ax = plt.subplots()\n",
    "idx_sort = torch.argsort(pred)\n",
    "ax.plot(pred[idx_sort].cpu(), \"C0x\", label=\"original\")\n",
    "ax.plot(cal_pred[idx_sort].cpu(), \"C1x\", label=\"calibrated\")\n",
    "ax.grid(color=\"gray\", linestyle=\"dashed\")\n",
    "ax.set_xlabel(\"index\")\n",
    "ax.set_ylabel(f\"{vocs.objective_names[0]} (mm)\")\n",
    "ax.legend(loc=\"upper left\")\n",
    "fig.tight_layout()"
   ]
  },
  {
   "cell_type": "code",
   "execution_count": 20,
   "metadata": {},
   "outputs": [],
   "source": [
    "# calibration parameters\n",
    "df_x = pd.DataFrame(\n",
    "    columns=[[\"x_offset\"] * 2 + [\"x_scale\"] * 2, [\"target\", \"learned\"] * 2]\n",
    ")\n",
    "df_y = pd.DataFrame(\n",
    "    columns=[[\"y_offset\"] * 2 + [\"y_scale\"] * 2, [\"target\", \"learned\"] * 2]\n",
    ")\n",
    "for df in [df_x, df_y]:\n",
    "    for col in df.columns:\n",
    "        model = miscalibrated_objective_model\n",
    "        if col[-1] == \"learned\":\n",
    "            model = cal_model\n",
    "        values = getattr(model, col[0])\n",
    "        if col[-1] == \"learned\":\n",
    "            if \"offset\" in col[0]:\n",
    "                values = -values\n",
    "            elif \"scale\" in col[0]:\n",
    "                values = 1.0 / values\n",
    "        if values.shape[0] == 1:\n",
    "            df[col] = values.detach().cpu().tolist()\n",
    "        else:\n",
    "            df.loc[:, col] = values.detach().cpu().tolist()\n",
    "pd.set_option(\"display.float_format\", \"{:.4f}\".format)"
   ]
  },
  {
   "cell_type": "code",
   "execution_count": 21,
   "metadata": {},
   "outputs": [
    {
     "data": {
      "text/html": [
       "<div>\n",
       "<style scoped>\n",
       "    .dataframe tbody tr th:only-of-type {\n",
       "        vertical-align: middle;\n",
       "    }\n",
       "\n",
       "    .dataframe tbody tr th {\n",
       "        vertical-align: top;\n",
       "    }\n",
       "\n",
       "    .dataframe thead tr th {\n",
       "        text-align: left;\n",
       "    }\n",
       "</style>\n",
       "<table border=\"1\" class=\"dataframe\">\n",
       "  <thead>\n",
       "    <tr>\n",
       "      <th></th>\n",
       "      <th colspan=\"2\" halign=\"left\">x_offset</th>\n",
       "      <th colspan=\"2\" halign=\"left\">x_scale</th>\n",
       "    </tr>\n",
       "    <tr>\n",
       "      <th></th>\n",
       "      <th>target</th>\n",
       "      <th>learned</th>\n",
       "      <th>target</th>\n",
       "      <th>learned</th>\n",
       "    </tr>\n",
       "  </thead>\n",
       "  <tbody>\n",
       "    <tr>\n",
       "      <th>0</th>\n",
       "      <td>0.1489</td>\n",
       "      <td>0.1564</td>\n",
       "      <td>1.0507</td>\n",
       "      <td>1.0506</td>\n",
       "    </tr>\n",
       "    <tr>\n",
       "      <th>1</th>\n",
       "      <td>0.2305</td>\n",
       "      <td>0.1901</td>\n",
       "      <td>1.0882</td>\n",
       "      <td>1.0870</td>\n",
       "    </tr>\n",
       "    <tr>\n",
       "      <th>2</th>\n",
       "      <td>0.0265</td>\n",
       "      <td>0.0551</td>\n",
       "      <td>1.1556</td>\n",
       "      <td>1.1558</td>\n",
       "    </tr>\n",
       "    <tr>\n",
       "      <th>3</th>\n",
       "      <td>0.0396</td>\n",
       "      <td>0.0473</td>\n",
       "      <td>1.2093</td>\n",
       "      <td>1.2091</td>\n",
       "    </tr>\n",
       "    <tr>\n",
       "      <th>4</th>\n",
       "      <td>0.0922</td>\n",
       "      <td>0.1140</td>\n",
       "      <td>1.2400</td>\n",
       "      <td>1.2399</td>\n",
       "    </tr>\n",
       "    <tr>\n",
       "      <th>5</th>\n",
       "      <td>0.1902</td>\n",
       "      <td>0.1990</td>\n",
       "      <td>1.0483</td>\n",
       "      <td>1.0483</td>\n",
       "    </tr>\n",
       "    <tr>\n",
       "      <th>6</th>\n",
       "      <td>0.1470</td>\n",
       "      <td>0.1598</td>\n",
       "      <td>1.0847</td>\n",
       "      <td>1.0847</td>\n",
       "    </tr>\n",
       "    <tr>\n",
       "      <th>7</th>\n",
       "      <td>0.2689</td>\n",
       "      <td>0.3230</td>\n",
       "      <td>1.2045</td>\n",
       "      <td>1.2045</td>\n",
       "    </tr>\n",
       "    <tr>\n",
       "      <th>8</th>\n",
       "      <td>0.1367</td>\n",
       "      <td>0.1748</td>\n",
       "      <td>1.2746</td>\n",
       "      <td>1.2744</td>\n",
       "    </tr>\n",
       "    <tr>\n",
       "      <th>9</th>\n",
       "      <td>0.1897</td>\n",
       "      <td>0.2122</td>\n",
       "      <td>1.1191</td>\n",
       "      <td>1.1188</td>\n",
       "    </tr>\n",
       "    <tr>\n",
       "      <th>10</th>\n",
       "      <td>0.1047</td>\n",
       "      <td>0.1320</td>\n",
       "      <td>1.2622</td>\n",
       "      <td>1.2625</td>\n",
       "    </tr>\n",
       "    <tr>\n",
       "      <th>11</th>\n",
       "      <td>0.1205</td>\n",
       "      <td>0.1359</td>\n",
       "      <td>1.1258</td>\n",
       "      <td>1.1255</td>\n",
       "    </tr>\n",
       "    <tr>\n",
       "      <th>12</th>\n",
       "      <td>0.0067</td>\n",
       "      <td>0.0070</td>\n",
       "      <td>1.1659</td>\n",
       "      <td>1.1662</td>\n",
       "    </tr>\n",
       "  </tbody>\n",
       "</table>\n",
       "</div>"
      ],
      "text/plain": [
       "   x_offset         x_scale        \n",
       "     target learned  target learned\n",
       "0    0.1489  0.1564  1.0507  1.0506\n",
       "1    0.2305  0.1901  1.0882  1.0870\n",
       "2    0.0265  0.0551  1.1556  1.1558\n",
       "3    0.0396  0.0473  1.2093  1.2091\n",
       "4    0.0922  0.1140  1.2400  1.2399\n",
       "5    0.1902  0.1990  1.0483  1.0483\n",
       "6    0.1470  0.1598  1.0847  1.0847\n",
       "7    0.2689  0.3230  1.2045  1.2045\n",
       "8    0.1367  0.1748  1.2746  1.2744\n",
       "9    0.1897  0.2122  1.1191  1.1188\n",
       "10   0.1047  0.1320  1.2622  1.2625\n",
       "11   0.1205  0.1359  1.1258  1.1255\n",
       "12   0.0067  0.0070  1.1659  1.1662"
      ]
     },
     "execution_count": 21,
     "metadata": {},
     "output_type": "execute_result"
    }
   ],
   "source": [
    "df_x"
   ]
  },
  {
   "cell_type": "code",
   "execution_count": 22,
   "metadata": {},
   "outputs": [
    {
     "data": {
      "text/html": [
       "<div>\n",
       "<style scoped>\n",
       "    .dataframe tbody tr th:only-of-type {\n",
       "        vertical-align: middle;\n",
       "    }\n",
       "\n",
       "    .dataframe tbody tr th {\n",
       "        vertical-align: top;\n",
       "    }\n",
       "\n",
       "    .dataframe thead tr th {\n",
       "        text-align: left;\n",
       "    }\n",
       "</style>\n",
       "<table border=\"1\" class=\"dataframe\">\n",
       "  <thead>\n",
       "    <tr>\n",
       "      <th></th>\n",
       "      <th colspan=\"2\" halign=\"left\">y_offset</th>\n",
       "      <th colspan=\"2\" halign=\"left\">y_scale</th>\n",
       "    </tr>\n",
       "    <tr>\n",
       "      <th></th>\n",
       "      <th>target</th>\n",
       "      <th>learned</th>\n",
       "      <th>target</th>\n",
       "      <th>learned</th>\n",
       "    </tr>\n",
       "  </thead>\n",
       "  <tbody>\n",
       "    <tr>\n",
       "      <th>0</th>\n",
       "      <td>0.2858</td>\n",
       "      <td>0.2889</td>\n",
       "      <td>1.0108</td>\n",
       "      <td>1.0110</td>\n",
       "    </tr>\n",
       "  </tbody>\n",
       "</table>\n",
       "</div>"
      ],
      "text/plain": [
       "  y_offset         y_scale        \n",
       "    target learned  target learned\n",
       "0   0.2858  0.2889  1.0108  1.0110"
      ]
     },
     "execution_count": 22,
     "metadata": {},
     "output_type": "execute_result"
    }
   ],
   "source": [
    "df_y"
   ]
  },
  {
   "cell_type": "code",
   "execution_count": null,
   "metadata": {},
   "outputs": [],
   "source": []
  }
 ],
 "metadata": {
  "kernelspec": {
   "display_name": "Python [conda env:nnprior]",
   "language": "python",
   "name": "conda-env-nnprior-py"
  },
  "language_info": {
   "codemirror_mode": {
    "name": "ipython",
    "version": 3
   },
   "file_extension": ".py",
   "mimetype": "text/x-python",
   "name": "python",
   "nbconvert_exporter": "python",
   "pygments_lexer": "ipython3",
   "version": "3.9.20"
  }
 },
 "nbformat": 4,
 "nbformat_minor": 4
}
