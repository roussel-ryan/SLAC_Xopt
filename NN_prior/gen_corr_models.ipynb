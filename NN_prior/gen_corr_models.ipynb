{
 "cells": [
  {
   "cell_type": "code",
   "execution_count": 1,
   "id": "cea3b817",
   "metadata": {},
   "outputs": [],
   "source": [
    "import os\n",
    "import time\n",
    "\n",
    "import torch\n",
    "import torch.nn as nn\n",
    "import torch.optim as optim\n",
    "import torch.nn.functional as F\n",
    "import matplotlib.pyplot as plt\n",
    "from botorch.models.transforms import Normalize\n",
    "\n",
    "from xopt.vocs import VOCS\n",
    "from lume_model.torch import LUMEModule\n",
    "\n",
    "from utils import load_surrogate, create_vocs"
   ]
  },
  {
   "cell_type": "code",
   "execution_count": 2,
   "id": "ebb8b2a1",
   "metadata": {},
   "outputs": [],
   "source": [
    "# load surrogate model\n",
    "surrogate = load_surrogate(\"configs/lcls_variables.yml\", \"configs/normalization.json\", \"torch_model.pt\")\n",
    "objective_name = \"negative_sigma_xy\"\n",
    "vocs = create_vocs(surrogate, objective_name)\n",
    "surrogate_module = LUMEModule(surrogate, surrogate.features, surrogate.outputs)"
   ]
  },
  {
   "cell_type": "markdown",
   "id": "d1c1baaa",
   "metadata": {},
   "source": [
    "# Load/Generate Grid Data"
   ]
  },
  {
   "cell_type": "code",
   "execution_count": 3,
   "id": "3aa79d7e",
   "metadata": {},
   "outputs": [],
   "source": [
    "path = \"./corr_models/\"\n",
    "n_pts = 3  # points per grid dimension\n",
    "\n",
    "# output directory\n",
    "if not os.path.exists(path):\n",
    "    os.makedirs(path)"
   ]
  },
  {
   "cell_type": "code",
   "execution_count": 4,
   "id": "c3ed5034",
   "metadata": {},
   "outputs": [],
   "source": [
    "x_dim = len(surrogate.features)\n",
    "y_dim = len(surrogate.outputs)\n",
    "raw_x_lim = torch.empty(x_dim, 2)\n",
    "for i, name in enumerate(surrogate.features):\n",
    "    if name in vocs.variable_names:\n",
    "        raw_x_lim[i, :] = torch.tensor(vocs.variables[name])\n",
    "    else:\n",
    "        raw_x_lim[i, :] = torch.tensor([vocs.constants[name], vocs.constants[name]])\n",
    "        \n",
    "x_lim = raw_x_lim.clone()\n",
    "for i in range(x_lim.shape[0]):\n",
    "    if not x_lim[i, 0] < x_lim[i, 1]:\n",
    "        old_value = x_lim[i, 0].clone()\n",
    "        delta = 1e-2 * x_lim[i, 0]\n",
    "        x_lim[i] = torch.tensor([old_value - delta, old_value + delta])"
   ]
  },
  {
   "cell_type": "code",
   "execution_count": 5,
   "id": "cdd9c45d",
   "metadata": {},
   "outputs": [],
   "source": [
    "# load/generate grid data\n",
    "def get_grid_data(save_data=True):\n",
    "    file = path + \"grid_data.pt\"\n",
    "    if os.path.isfile(file):\n",
    "        grid_data = torch.load(file)\n",
    "        x, y = grid_data[\"x\"], grid_data[\"y\"]\n",
    "    else:\n",
    "        x_i = [torch.linspace(*raw_x_lim[i], n_pts) for i in range(x_dim)]\n",
    "        x = torch.cartesian_prod(*x_i)\n",
    "        n_samples = x.shape[0]\n",
    "        # calculate outputs in batches\n",
    "        y = torch.empty((n_samples, y_dim))\n",
    "        n_batch = 100\n",
    "        batch_size = n_samples // n_batch\n",
    "        for i in range(n_batch + 1):\n",
    "            idx_start = i * batch_size\n",
    "            idx_end = (i + 1) * batch_size\n",
    "            if i == 100:\n",
    "                idx_end = -1\n",
    "            x_batch = x[idx_start:idx_end, :].double()\n",
    "            with torch.no_grad():\n",
    "                y[idx_start:idx_end] = surrogate_module(x_batch)\n",
    "            frac = (n_batch + 1) // 10\n",
    "            if i % frac == 0:\n",
    "                print(\"Computing y-data, finished {:d}%\".format(i * 10 // frac), end=\"\\r\")\n",
    "        if save_data:\n",
    "            if not os.path.exists(path):\n",
    "                os.makedirs(path)\n",
    "            torch.save({\"x\": x, \"y\": y}, file)\n",
    "    return x, y"
   ]
  },
  {
   "cell_type": "code",
   "execution_count": 6,
   "id": "d6d7c2bc",
   "metadata": {},
   "outputs": [],
   "source": [
    "# load/generate in-/ouput transformers (normalization)\n",
    "def get_transformers(save_data=True):\n",
    "    file_x = path + \"x_transformer.pt\"\n",
    "    file_y = path + \"y_transformer.pt\"\n",
    "    if os.path.isfile(file_x) and os.path.isfile(file_y):\n",
    "        x_transformer = Normalize(x_dim)\n",
    "        x_transformer.eval()\n",
    "        x_transformer.load_state_dict(torch.load(file_x))\n",
    "        y_transformer = Normalize(y_dim)\n",
    "        y_transformer.eval()\n",
    "        y_transformer.load_state_dict(torch.load(file_y))\n",
    "    else:\n",
    "        # define in- and output transformers\n",
    "        x_transformer = Normalize(x_dim, bounds=x_lim.T)\n",
    "        y_lim = torch.stack((torch.min(y, dim=0)[0], torch.max(y, dim=0)[0])).T\n",
    "        y_transformer = Normalize(y_dim, bounds=y_lim.T)\n",
    "        if save_data:\n",
    "            if not os.path.exists(path):\n",
    "                os.makedirs(path)\n",
    "            torch.save(x_transformer.state_dict(), file_x)\n",
    "            torch.save(y_transformer.state_dict(), file_y)\n",
    "    return x_transformer, y_transformer"
   ]
  },
  {
   "cell_type": "markdown",
   "id": "7bbbab75",
   "metadata": {},
   "source": [
    "# Load/Train Model"
   ]
  },
  {
   "cell_type": "code",
   "execution_count": 7,
   "id": "63424ef8",
   "metadata": {},
   "outputs": [],
   "source": [
    "lr = 1e-4\n",
    "n_epochs = 25\n",
    "train_frac = 0.8\n",
    "pin_memory = True\n",
    "batch_size = int(1e5)"
   ]
  },
  {
   "cell_type": "code",
   "execution_count": 8,
   "id": "05273f6a",
   "metadata": {},
   "outputs": [],
   "source": [
    "# define data set\n",
    "class Dataset(torch.utils.data.Dataset):\n",
    "    def __init__(self, x, y):\n",
    "        self.x, self.y, = x, y\n",
    "\n",
    "    def __len__(self):\n",
    "        return self.y.shape[0]\n",
    "\n",
    "    def __getitem__(self, idx):\n",
    "        x, y = self.x[idx], self.y[idx]\n",
    "        return x, y"
   ]
  },
  {
   "cell_type": "code",
   "execution_count": 9,
   "id": "91bd099a",
   "metadata": {},
   "outputs": [],
   "source": [
    "def create_model():\n",
    "    model = nn.Sequential(\n",
    "        nn.Linear(16, 100),\n",
    "        nn.ELU(),\n",
    "        nn.Linear(100, 200),\n",
    "        nn.ELU(),\n",
    "        nn.Dropout(p=0.05),\n",
    "        nn.Linear(200, 200),\n",
    "        nn.ELU(),\n",
    "        nn.Dropout(p=0.05),\n",
    "        nn.Linear(200, 300),\n",
    "        nn.ELU(),\n",
    "        nn.Dropout(p=0.05),\n",
    "        nn.Linear(300, 300),\n",
    "        nn.ELU(),\n",
    "        nn.Dropout(p=0.05),\n",
    "        nn.Linear(300, 200),\n",
    "        nn.ELU(),\n",
    "        nn.Dropout(p=0.05),\n",
    "        nn.Linear(200, 100),\n",
    "        nn.ELU(),\n",
    "        nn.Dropout(p=0.05),\n",
    "        nn.Linear(100, 100),\n",
    "        nn.ELU(),\n",
    "        nn.Linear(100, 100),\n",
    "        nn.ELU(),\n",
    "        nn.Linear(100, 5)\n",
    "    )\n",
    "    return model.double()"
   ]
  },
  {
   "cell_type": "code",
   "execution_count": 10,
   "id": "a9617193",
   "metadata": {},
   "outputs": [],
   "source": [
    "# define train/test data\n",
    "x, y = get_grid_data()\n",
    "x_transformer, y_transformer = get_transformers()\n",
    "x, y = x_transformer(x), y_transformer(y)\n",
    "idx = torch.randperm(x.shape[0])\n",
    "x, y = x[idx].double(), y[idx].double()\n",
    "idx_split = int(train_frac * x.shape[0])\n",
    "x_train, y_train = x[:idx_split], y[:idx_split]\n",
    "x_test, y_test = x[idx_split:], y[idx_split:]\n",
    "\n",
    "# define dataloaders\n",
    "trainset = Dataset(x_train, y_train)\n",
    "trainloader = torch.utils.data.DataLoader(trainset, batch_size=batch_size, shuffle=True, \n",
    "                                          num_workers=0, pin_memory=pin_memory)\n",
    "testset = Dataset(x_test, y_test)\n",
    "testloader = torch.utils.data.DataLoader(testset, batch_size=batch_size, shuffle=True, \n",
    "                                         num_workers=0, pin_memory=pin_memory)"
   ]
  },
  {
   "cell_type": "code",
   "execution_count": 11,
   "id": "9f7a086f",
   "metadata": {},
   "outputs": [
    {
     "name": "stdout",
     "output_type": "stream",
     "text": [
      "EPOCH      TRAIN_LOSS    TEST_LOSS          ETA\n",
      "\u001b[0;32m1             0.17594      0.17059     2.95 min\u001b[0m\n",
      "\u001b[0;32m2             0.01125      0.01071   298.21 min\u001b[0m\n",
      "\u001b[0;32m3             0.00916      0.00869   384.91 min\u001b[0m\n",
      "\u001b[0;32m4             0.00762      0.00691   416.96 min\u001b[0m\n",
      "\u001b[0;32m5             0.00599      0.00520   419.62 min\u001b[0m\n",
      "\u001b[0;32m6             0.00473      0.00380   414.68 min\u001b[0m\n",
      "\u001b[0;32m7             0.00368      0.00276   404.40 min\u001b[0m\n",
      "\u001b[0;32m8             0.00278      0.00190   389.71 min\u001b[0m\n",
      "\u001b[0;32m9             0.00214      0.00132   374.36 min\u001b[0m\n",
      "\u001b[0;32m10            0.00175      0.00100   357.33 min\u001b[0m\n",
      "\u001b[0;32m11            0.00148      0.00080   338.90 min\u001b[0m\n",
      "\u001b[0;32m12            0.00131      0.00067   318.84 min\u001b[0m\n",
      "\u001b[0;32m13            0.00117      0.00057   297.49 min\u001b[0m\n",
      "\u001b[0;32m14            0.00106      0.00049   275.32 min\u001b[0m\n",
      "\u001b[0;32m15            0.00097      0.00042   252.35 min\u001b[0m\n",
      "\u001b[0;32m16            0.00087      0.00034   228.70 min\u001b[0m\n",
      "\u001b[0;32m17            0.00079      0.00028   204.61 min\u001b[0m\n",
      "\u001b[0;32m18            0.00072      0.00024   180.01 min\u001b[0m\n",
      "\u001b[0;32m19            0.00067      0.00021   155.06 min\u001b[0m\n",
      "\u001b[0;32m20            0.00063      0.00019   129.80 min\u001b[0m\n",
      "\u001b[0;32m21            0.00060      0.00017   104.25 min\u001b[0m\n",
      "\u001b[0;32m22            0.00057      0.00016    78.47 min\u001b[0m\n",
      "\u001b[0;32m23            0.00054      0.00015    52.49 min\u001b[0m\n",
      "\u001b[0;32m24            0.00051      0.00014    26.32 min\u001b[0m\n",
      "\u001b[0;32m25            0.00049      0.00013     0.00 sec\u001b[0m\n",
      "Total runtime: 687.45 min\n"
     ]
    }
   ],
   "source": [
    "# define model, loss function and optimizer\n",
    "corr_model = create_model()\n",
    "criterion = nn.MSELoss()\n",
    "optimizer = optim.Adam(corr_model.parameters(), lr=lr)\n",
    "\n",
    "# train model\n",
    "train_losses = []\n",
    "test_losses = []\n",
    "print(\"{:8s} {:>12s} {:>12s} {:>12s}\".format(\"EPOCH\", \"TRAIN_LOSS\", \"TEST_LOSS\", \"ETA\"))\n",
    "t0 = time.time()\n",
    "best_loss = 1.0\n",
    "for epoch in range(n_epochs):\n",
    "    for i, data in enumerate(trainloader, 0):\n",
    "        # save model to file\n",
    "        if i == 0:\n",
    "            torch.save(corr_model, path + \"{:d}ep.pt\".format(epoch))\n",
    "\n",
    "        inputs, labels = data\n",
    "        optimizer.zero_grad()\n",
    "        corr_model.train()\n",
    "        outputs = corr_model(inputs)\n",
    "        loss = criterion(outputs, labels)\n",
    "        loss.backward()\n",
    "        optimizer.step()\n",
    "\n",
    "        if i == 0:\n",
    "            corr_model.eval()\n",
    "            inputs_test, targets_test = next(iter(testloader))\n",
    "            outputs_test = corr_model(inputs_test)\n",
    "            test_loss = criterion(outputs_test, targets_test)\n",
    "\n",
    "            # store losses\n",
    "            train_losses.append(loss.item())\n",
    "            test_losses.append(test_loss.item())\n",
    "\n",
    "            # print info\n",
    "            t_avg = (time.time() - t0) / (epoch + 1)\n",
    "            t_r = (n_epochs - epoch - 1) * t_avg / 60  # in minutes\n",
    "            if t_r <= 1.0:\n",
    "                t_info = \"{:.2f} sec\".format(60 * t_r)\n",
    "            else:\n",
    "                t_info = \"{:.2f} min\".format(t_r)\n",
    "            info = \"{:<8d} {:12.5f} {:12.5f} {:>12s}\".format(epoch + 1, loss, test_loss, t_info)\n",
    "            if test_loss < best_loss:\n",
    "                info = \"\\033[0;32m\" + info + '\\x1b[0m'\n",
    "            print(info)\n",
    "            if test_loss < best_loss:\n",
    "                best_loss = test_loss\n",
    "\n",
    "t_total = time.time() - t0\n",
    "t_r = t_total / 60  # in minutes\n",
    "if t_r <= 1.0:\n",
    "    t_info = \"{:.2f} sec\".format(60 * t_r)\n",
    "else:\n",
    "    t_info = \"{:.2f} min\".format(t_r)                \n",
    "print(\"Total runtime: {}\".format(t_info))\n",
    "\n",
    "# save final model to file\n",
    "torch.save(corr_model, path + \"{:d}ep.pt\".format(n_epochs))"
   ]
  },
  {
   "cell_type": "code",
   "execution_count": 12,
   "id": "bd004273",
   "metadata": {},
   "outputs": [
    {
     "data": {
      "image/png": "[encoded data removed]",
      "text/plain": [
       "<Figure size 800x600 with 1 Axes>"
      ]
     },
     "metadata": {},
     "output_type": "display_data"
    }
   ],
   "source": [
    "# plot training process\n",
    "fig, ax = plt.subplots(nrows=1, ncols=1, figsize=(8, 6))\n",
    "ax.set_xlabel(\"Epoch\")\n",
    "ax.plot(train_losses, c=\"C0\", label=\"training loss\")\n",
    "ax.plot(test_losses, c=\"C1\", label=\"test loss\")\n",
    "ax.set_ylabel(criterion.__class__.__name__)\n",
    "ax.legend(loc=\"upper right\")\n",
    "ax.set_axisbelow(True)\n",
    "ax.set_yscale(\"log\")\n",
    "ax.grid(color=\"gray\", linestyle=\"dashed\")"
   ]
  },
  {
   "cell_type": "code",
   "execution_count": null,
   "id": "bbde5cc6",
   "metadata": {},
   "outputs": [],
   "source": []
  }
 ],
 "metadata": {
  "kernelspec": {
   "display_name": "Python 3 (ipykernel)",
   "language": "python",
   "name": "python3"
  },
  "language_info": {
   "codemirror_mode": {
    "name": "ipython",
    "version": 3
   },
   "file_extension": ".py",
   "mimetype": "text/x-python",
   "name": "python",
   "nbconvert_exporter": "python",
   "pygments_lexer": "ipython3",
   "version": "3.9.16"
  }
 },
 "nbformat": 4,
 "nbformat_minor": 5
}
